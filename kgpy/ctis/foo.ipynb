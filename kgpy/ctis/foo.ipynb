{
 "cells": [
  {
   "cell_type": "code",
   "execution_count": 12,
   "metadata": {
    "collapsed": true
   },
   "outputs": [],
   "source": [
    "import abc\n",
    "import dataclasses"
   ]
  },
  {
   "cell_type": "code",
   "execution_count": 13,
   "outputs": [],
   "source": [
    "@dataclasses.dataclass\n",
    "class AbstractPoint(\n",
    "    abc.ABC,\n",
    "):\n",
    "\n",
    "    @abc.abstractmethod\n",
    "    def length(self):\n",
    "        pass"
   ],
   "metadata": {
    "collapsed": false,
    "pycharm": {
     "name": "#%%\n"
    }
   }
  },
  {
   "cell_type": "code",
   "execution_count": 14,
   "outputs": [
    {
     "ename": "TypeError",
     "evalue": "Can't instantiate abstract class AbstractPoint with abstract methods length",
     "output_type": "error",
     "traceback": [
      "\u001B[1;31m---------------------------------------------------------------------------\u001B[0m",
      "\u001B[1;31mTypeError\u001B[0m                                 Traceback (most recent call last)",
      "\u001B[1;32m<ipython-input-14-43afff201d7b>\u001B[0m in \u001B[0;36m<module>\u001B[1;34m\u001B[0m\n\u001B[1;32m----> 1\u001B[1;33m \u001B[0mpt\u001B[0m \u001B[1;33m=\u001B[0m \u001B[0mAbstractPoint\u001B[0m\u001B[1;33m(\u001B[0m\u001B[1;33m)\u001B[0m\u001B[1;33m\u001B[0m\u001B[1;33m\u001B[0m\u001B[0m\n\u001B[0m",
      "\u001B[1;31mTypeError\u001B[0m: Can't instantiate abstract class AbstractPoint with abstract methods length"
     ]
    }
   ],
   "source": [
    "pt = AbstractPoint()"
   ],
   "metadata": {
    "collapsed": false,
    "pycharm": {
     "name": "#%%\n"
    }
   }
  },
  {
   "cell_type": "code",
   "execution_count": null,
   "outputs": [],
   "source": [
    "@dataclasses.dataclass\n",
    "class CartesianPoint(AbstractPoint):\n",
    "    x: float\n",
    "    y: float\n",
    "\n",
    "    def length(self):\n",
    "        return sqrt(self.x * self.x + self.y * self.y)"
   ],
   "metadata": {
    "collapsed": false,
    "pycharm": {
     "name": "#%%\n"
    }
   }
  },
  {
   "cell_type": "code",
   "execution_count": 16,
   "outputs": [],
   "source": [
    "import kgpy.labeled\n",
    "import kgpy.function\n",
    "import kgpy.vectors"
   ],
   "metadata": {
    "collapsed": false,
    "pycharm": {
     "name": "#%%\n"
    }
   }
  },
  {
   "cell_type": "code",
   "execution_count": null,
   "outputs": [],
   "source": [
    "kgpy.function.Polynomial(\n",
    "    coefficients=kgpy.vectors.CartesianND({\n",
    "        'x':\n",
    "    })\n",
    ")"
   ],
   "metadata": {
    "collapsed": false,
    "pycharm": {
     "name": "#%%\n"
    }
   }
  },
  {
   "cell_type": "code",
   "execution_count": 19,
   "outputs": [],
   "source": [
    "x = kgpy.labeled.LinearSpace(0, 1, num=11, axis='x')\n",
    "y = kgpy.labeled.LinearSpace(0, 1, num=11, axis='y')"
   ],
   "metadata": {
    "collapsed": false,
    "pycharm": {
     "name": "#%%\n"
    }
   }
  },
  {
   "cell_type": "code",
   "execution_count": 22,
   "outputs": [],
   "source": [
    "intensity = x + y + 2 * x * y"
   ],
   "metadata": {
    "collapsed": false,
    "pycharm": {
     "name": "#%%\n"
    }
   }
  },
  {
   "cell_type": "code",
   "execution_count": 31,
   "outputs": [],
   "source": [
    "a = kgpy.function.PolynomialArray(\n",
    "    input=kgpy.vectors.Cartesian2D(x, y),\n",
    "    output=kgpy.vectors.Cartesian2D(intensity, -intensity),\n",
    "    degree=2,\n",
    ")"
   ],
   "metadata": {
    "collapsed": false,
    "pycharm": {
     "name": "#%%\n"
    }
   }
  },
  {
   "cell_type": "code",
   "execution_count": 32,
   "outputs": [
    {
     "data": {
      "text/plain": "CartesianND(coordinates={'': Cartesian2D(x=Array(array=-5.329070518200751e-15, axes=[]), y=Array(array=5.329070518200751e-15, axes=[])), 'y': Cartesian2D(x=Array(array=0.9999999999999873, axes=[]), y=Array(array=-0.9999999999999873, axes=[])), 'x': Cartesian2D(x=Array(array=1.0, axes=[]), y=Array(array=-1.0, axes=[])), 'y,y': Cartesian2D(x=Array(array=5.423244716789147e-15, axes=[]), y=Array(array=-5.423244716789147e-15, axes=[])), 'x,y': Cartesian2D(x=Array(array=2.000000000000003, axes=[]), y=Array(array=-2.000000000000003, axes=[])), 'x,x': Cartesian2D(x=Array(array=1.4210854715202004e-14, axes=[]), y=Array(array=-1.4210854715202004e-14, axes=[]))})"
     },
     "execution_count": 32,
     "metadata": {},
     "output_type": "execute_result"
    }
   ],
   "source": [
    "a.coefficients"
   ],
   "metadata": {
    "collapsed": false,
    "pycharm": {
     "name": "#%%\n"
    }
   }
  },
  {
   "cell_type": "code",
   "execution_count": 33,
   "outputs": [],
   "source": [
    "import astropy.units as u\n",
    "import kgpy.ctis.instruments\n",
    "import kgpy.optics.aberrations"
   ],
   "metadata": {
    "collapsed": false,
    "pycharm": {
     "name": "#%%\n"
    }
   }
  },
  {
   "cell_type": "code",
   "execution_count": null,
   "outputs": [],
   "source": [
    "instrument = kgpy.ctis.instruments.AberrationInstrument(\n",
    "    aberration=kgpy.optics.aberrations.Aberration(\n",
    "        distortion=kgpy.function.Polynomial(\n",
    "            coefficients=kgpy.vectors.CartesianND({\n",
    "                'x': kgpy.vectors.Cartesian2D(\n",
    "                    x=kgpy.labeled.Array([1, 0] * u.pix / u.arcsec , axes=['channel']),\n",
    "                    y=kgpy.labeled.Array([0, 1] * u.pix / u.arcsec , axes=['channel']),\n",
    "                ),\n",
    "                'y': kgpy.vectors.Cartesian2D(\n",
    "                    x=kgpy.labeled.Array([0, 1] * u.pix / u.arcsec , axes=['channel']),\n",
    "                    y=kgpy.labeled.Array([1, 0] * u.pix / u.arcsec , axes=['channel']),\n",
    "                ),\n",
    "                'wavelength': kgpy.vectors.Cartesian2D(\n",
    "                    x=kgpy.labeled.Array([1, 1] * u.pix / u.arcsec , axes=['channel']),\n",
    "                    y=kgpy.labeled.Array([0, 0] * u.pix / u.arcsec , axes=['channel']),\n",
    "                ),\n",
    "            })\n",
    "        )\n",
    "    )\n",
    ")"
   ],
   "metadata": {
    "collapsed": false,
    "pycharm": {
     "name": "#%%\n"
    }
   }
  },
  {
   "cell_type": "markdown",
   "source": [],
   "metadata": {
    "collapsed": false
   }
  }
 ],
 "metadata": {
  "kernelspec": {
   "display_name": "Python 3",
   "language": "python",
   "name": "python3"
  },
  "language_info": {
   "codemirror_mode": {
    "name": "ipython",
    "version": 2
   },
   "file_extension": ".py",
   "mimetype": "text/x-python",
   "name": "python",
   "nbconvert_exporter": "python",
   "pygments_lexer": "ipython2",
   "version": "2.7.6"
  }
 },
 "nbformat": 4,
 "nbformat_minor": 0
}