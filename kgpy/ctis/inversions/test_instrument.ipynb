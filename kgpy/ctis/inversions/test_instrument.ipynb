{
 "cells": [
  {
   "cell_type": "code",
   "execution_count": 2,
   "metadata": {
    "collapsed": true
   },
   "outputs": [],
   "source": [
    "import astropy.units as u\n",
    "import kgpy.ctis.instruments\n",
    "import kgpy.optics.aberrations"
   ]
  },
  {
   "cell_type": "code",
   "execution_count": null,
   "outputs": [],
   "source": [
    "instrument = kgpy.ctis.instruments.AberrationInstrument(\n",
    "    aberration=kgpy.optics.aberrations.Aberration(\n",
    "        distortion=kgpy.function.Polynomial(\n",
    "            coefficients=kgpy.vectors.CartesianND({\n",
    "                'x': kgpy.vectors.Cartesian2D(\n",
    "                    x=kgpy.labeled.Array([1, 0] * u.pix / u.arcsec, axes=['channel']),\n",
    "                    y=kgpy.labeled.Array([0, 1] * u.pix / u.arcsec, axes=['channel']),\n",
    "                ),\n",
    "                'y': kgpy.vectors.Cartesian2D(\n",
    "                    x=kgpy.labeled.Array([0, 1] * u.pix / u.arcsec, axes=['channel']),\n",
    "                    y=kgpy.labeled.Array([1, 0] * u.pix / u.arcsec, axes=['channel']),\n",
    "                ),\n",
    "                'wavelength': kgpy.vectors.Cartesian2D(\n",
    "                    x=kgpy.labeled.Array([1, 1] * u.pix / u.arcsec, axes=['channel']),\n",
    "                    y=kgpy.labeled.Array([0, 0] * u.pix / u.arcsec, axes=['channel']),\n",
    "                ),\n",
    "            })\n",
    "        )\n",
    "    )\n",
    ")"
   ],
   "metadata": {
    "collapsed": false,
    "pycharm": {
     "name": "#%%\n"
    }
   }
  }
 ],
 "metadata": {
  "kernelspec": {
   "display_name": "Python 3",
   "language": "python",
   "name": "python3"
  },
  "language_info": {
   "codemirror_mode": {
    "name": "ipython",
    "version": 2
   },
   "file_extension": ".py",
   "mimetype": "text/x-python",
   "name": "python",
   "nbconvert_exporter": "python",
   "pygments_lexer": "ipython2",
   "version": "2.7.6"
  }
 },
 "nbformat": 4,
 "nbformat_minor": 0
}