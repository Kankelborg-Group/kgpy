{
 "cells": [
  {
   "cell_type": "markdown",
   "metadata": {},
   "source": [
    "# A Robust Measure of Central Tendency in $N$ Dimensions\n",
    "_Charles C. Kankelborg_\n",
    "\n",
    "## Abstract\n",
    "I describe an N-dimensional generalization of the median that can be used to find the central tendency of a distribution. The generalized median is more robust than a centroid, is capable of sub-pixel precision, and can be computed quickly by FFT convolution. I have implemented the generalized median as a Python module for the special case of two dimensions, with an eye toward image processing. A few test cases are shown to illustrate the robustness of the method.\n"
   ]
  },
  {
   "cell_type": "markdown",
   "metadata": {},
   "source": [
    "## The Median\n",
    "We begin by describing the traditional median as follows:\n",
    "$$\n",
    "    x_m = \\underset{x}{\\arg \\min} \\,\n",
    "        \\int_{\\mathcal{D}}  P(x')\\, \\left| x-x' \\right| \\,dx'\n",
    "$$\n",
    "where $\\mathcal{D}$ is the support (domain) of the PDF $P(x)$. This is perhaps an atypical definition, but if you think about it you will realize that it is the median."
   ]
  },
  {
   "cell_type": "markdown",
   "metadata": {},
   "source": [
    "## The Generalized Median\n",
    "By analogy to the previous section, we define the $N$-dimensional generalized median as follows:\n",
    "$$\n",
    "    \\mathbf{r}_m = \\underset{\\mathbf{r}}{\\arg \\min} \\,\n",
    "        \\int_{\\mathcal{D}} P(\\mathbf{r'})\\,\\left| \\mathbf{r-r'} \\right| \\,d^N r'\n",
    "        = \\underset{\\mathbf{r}}{\\arg \\min} \\,\\,P(\\mathbf{r}) * \\left|\\mathbf{r}\\right|.\n",
    "$$\n"
   ]
  },
  {
   "cell_type": "markdown",
   "metadata": {},
   "source": [
    "## Proposed Algorithm\n",
    "By the following algorithm, the generalized median can run on an $N$-dimensional array in $n\\,\\log n$ time, where $n$ is the number of data points.\n",
    "1. Begin with $P_{ij}$, a sampled array representation of $P(\\mathbf{r})$.$^*$\n",
    "1. Use FFT to convolve $P_{ij}$ with an array representation of the cone function, $\\left| \\mathbf{r} \\right|$. Call the result $C_{ij}$, which of course represents a continuous function $C(\\mathbf{r})$.\n",
    "2. Find $(i_m,j_m)$, the index of the minimum entry in the array representation of $C(\\mathbf{r})$. Its location is, to within the sampling interval, an approximation of $\\mathbf{r}_m$.\n",
    "3. Using a local neighborhood of perhaps $3^N$ pixels surrounding $(i_m,j_m)$, fit a quadratic form to $C_{ij}$ and minimize it to obtain a sub-pixel estimate of $\\mathbf{r}_m$.\n",
    "\n",
    "$^*$ I write just two indices because I am thinking about images, but in general my proposed algorithm can be implemented in $N$ dimensions."
   ]
  },
  {
   "cell_type": "code",
   "execution_count": 24,
   "metadata": {},
   "outputs": [
    {
     "name": "stdout",
     "output_type": "stream",
     "text": [
      "(0, 0, 0)\n",
      "-2\n",
      "[-2 -1  0  1  2]\n"
     ]
    }
   ],
   "source": [
    "import numpy as np\n",
    "import matplotlib.pyplot as plt\n",
    "\n",
    "foo = np.mgrid[-2:2+1,-1:1+1]\n",
    "argminfoo = np.unravel_index(np.argmin(foo), foo.shape)\n",
    "print(argminfoo)\n",
    "print(foo[argminfoo])\n",
    "#x,y = np.meshgrid(-2:2+1,-1:1+1)\n",
    "print(np.arange(-2,2+1))\n"
   ]
  },
  {
   "cell_type": "code",
   "execution_count": 27,
   "metadata": {},
   "outputs": [
    {
     "data": {
      "text/plain": [
       "array([[-1, -1, -1],\n",
       "       [ 0,  0,  0],\n",
       "       [ 1,  1,  1]])"
      ]
     },
     "execution_count": 27,
     "metadata": {},
     "output_type": "execute_result"
    }
   ],
   "source": []
  },
  {
   "cell_type": "markdown",
   "metadata": {},
   "source": [
    "## To do\n",
    "1. [ ] Write python module.\n",
    "1. [ ] Write a few test cases.\n",
    "1. [ ] Is the generalized median applicable to images with negative data values?\n"
   ]
  }
 ],
 "metadata": {
  "kernelspec": {
   "display_name": "Python 3",
   "language": "python",
   "name": "python3"
  },
  "language_info": {
   "codemirror_mode": {
    "name": "ipython",
    "version": 3
   },
   "file_extension": ".py",
   "mimetype": "text/x-python",
   "name": "python",
   "nbconvert_exporter": "python",
   "pygments_lexer": "ipython3",
   "version": "3.6.5"
  }
 },
 "nbformat": 4,
 "nbformat_minor": 2
}
