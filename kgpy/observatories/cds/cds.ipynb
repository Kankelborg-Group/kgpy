{
 "cells": [
  {
   "cell_type": "code",
   "execution_count": 2,
   "metadata": {},
   "outputs": [],
   "source": [
    "%matplotlib notebook\n",
    "%reload_ext autoreload\n",
    "%autoreload 2"
   ]
  },
  {
   "cell_type": "code",
   "execution_count": 3,
   "metadata": {},
   "outputs": [],
   "source": [
    "import pathlib\n",
    "import astropy.io.fits"
   ]
  },
  {
   "cell_type": "code",
   "execution_count": 4,
   "metadata": {},
   "outputs": [],
   "source": [
    "f0 = pathlib.Path('C:\\\\Users\\\\byrdie\\\\Kankelborg-Group\\\\kgpy\\\\kgpy\\\\observatories\\\\cds\\\\data\\\\s631r00.fits')\n",
    "f1 = pathlib.Path('C:\\\\Users\\\\byrdie\\\\Kankelborg-Group\\\\kgpy\\\\kgpy\\\\observatories\\\\cds\\\\data\\\\s631r00.fits')\n",
    "f2 = pathlib.Path('C:\\\\Users\\\\byrdie\\\\Kankelborg-Group\\\\kgpy\\\\kgpy\\\\observatories\\\\cds\\\\data\\\\s631r00.fits')"
   ]
  },
  {
   "cell_type": "code",
   "execution_count": 5,
   "metadata": {},
   "outputs": [],
   "source": [
    "hdul = astropy.io.fits.open(f1, lazy_load_hdus=True, output_verify='fix')"
   ]
  },
  {
   "cell_type": "code",
   "execution_count": 6,
   "metadata": {},
   "outputs": [
    {
     "data": {
      "text/plain": [
       "[<astropy.io.fits.hdu.image.PrimaryHDU object at 0x000002105E5CC888>, <astropy.io.fits.hdu.table.BinTableHDU object at 0x000002105E633388>]"
      ]
     },
     "execution_count": 6,
     "metadata": {},
     "output_type": "execute_result"
    }
   ],
   "source": [
    "hdul"
   ]
  },
  {
   "cell_type": "code",
   "execution_count": 9,
   "metadata": {
    "scrolled": false
   },
   "outputs": [
    {
     "data": {
      "text/plain": [
       "ColDefs(\n",
       "    name = 'O_4_554_52'; format = '8580I'; unit = 'ADC'; null = -1; dim = '(1,60,143)'; coord_unit = '(ANGSTROM,ARCSEC,ARCSEC)'\n",
       "    name = 'FE_16_335_40'; format = '8580I'; unit = 'ADC'; null = -1; dim = '(1,60,143)'; coord_unit = '(ANGSTROM,ARCSEC,ARCSEC)'\n",
       "    name = 'HE_1_584_34'; format = '8580I'; unit = 'ADC'; null = -1; dim = '(1,60,143)'; coord_unit = '(ANGSTROM,ARCSEC,ARCSEC)'\n",
       "    name = 'HE_2_303_78'; format = '8580I'; unit = 'ADC'; null = -1; dim = '(1,60,143)'; coord_unit = '(ANGSTROM,ARCSEC,ARCSEC)'\n",
       "    name = 'MG_9_368_06'; format = '8580I'; unit = 'ADC'; null = -1; dim = '(1,60,143)'; coord_unit = '(ANGSTROM,ARCSEC,ARCSEC)'\n",
       "    name = 'O_5_629_73'; format = '8580I'; unit = 'ADC'; null = -1; dim = '(1,60,143)'; coord_unit = '(ANGSTROM,ARCSEC,ARCSEC)'\n",
       "    name = 'BACKGROUND'; format = '600I'; unit = 'ADC'; null = -1; dim = '(1,60,10)'; coord_unit = '(ANGSTROM,ARCSEC,ARCSEC)'\n",
       "    name = 'BACKGROUND'; format = '600I'; unit = 'ADC'; null = -1; dim = '(1,60,10)'; coord_unit = '(ANGSTROM,ARCSEC,ARCSEC)'\n",
       "    name = 'BACKGROUND'; format = '600I'; unit = 'ADC'; null = -1; dim = '(1,60,10)'; coord_unit = '(ANGSTROM,ARCSEC,ARCSEC)'\n",
       "    name = 'BACKGROUND'; format = '600I'; unit = 'ADC'; null = -1; dim = '(1,60,10)'; coord_unit = '(ANGSTROM,ARCSEC,ARCSEC)'\n",
       "    name = 'DEL_TIME'; format = '60D'; unit = 'second'; coord_unit = 'ARCSEC'\n",
       "    name = 'INS_X'; format = '60E'; unit = 'arcsec'; coord_unit = 'ARCSEC'\n",
       "    name = 'INS_Y'; format = '60E'; unit = 'arcsec'; coord_unit = 'ARCSEC'\n",
       "    name = 'OPSLBITS'; format = '60B'; unit = 'code'; null = 255; coord_unit = 'ARCSEC'\n",
       "    name = 'OPS_L'; format = '60I'; unit = 'raw'; null = -1; coord_unit = 'ARCSEC'\n",
       "    name = 'OPSRBITS'; format = '60B'; unit = 'code'; null = 255; coord_unit = 'ARCSEC'\n",
       "    name = 'OPS_R'; format = '60I'; unit = 'raw'; null = -1; coord_unit = 'ARCSEC'\n",
       "    name = 'SLITBITS'; format = '60B'; unit = 'code'; null = 255; coord_unit = 'ARCSEC'\n",
       "    name = 'SLIT_POS'; format = '60I'; unit = 'raw'; null = -1; coord_unit = 'ARCSEC'\n",
       "    name = 'MIR_POS'; format = '60B'; unit = 'raw'; null = 255; coord_unit = 'ARCSEC'\n",
       "    name = 'PTCHBITS'; format = '60B'; unit = 'code'; null = 255; coord_unit = 'ARCSEC'\n",
       "    name = 'PITCH'; format = '60I'; unit = 'raw'; null = -1; coord_unit = 'ARCSEC'\n",
       "    name = 'YAW_BITS'; format = '60B'; unit = 'code'; null = 255; coord_unit = 'ARCSEC'\n",
       "    name = 'YAW'; format = '60I'; unit = 'raw'; null = -1; coord_unit = 'ARCSEC'\n",
       "    name = 'EV_LEVEL'; format = '60J'; unit = 'code'; null = -1; coord_unit = 'ARCSEC'\n",
       "    name = 'ONBOARDX'; format = '60I'; unit = 'arcsec'; null = 32767; coord_unit = 'ARCSEC'\n",
       "    name = 'ONBOARDY'; format = '60I'; unit = 'arcsec'; null = -1; coord_unit = 'ARCSEC'\n",
       "    name = 'EV_RECOG'; format = '60L'; unit = 'logical'; coord_unit = 'ARCSEC'\n",
       "    name = 'EV_DETEC'; format = '60L'; unit = 'logical'; coord_unit = 'ARCSEC'\n",
       "    name = 'EV_VALID'; format = '60L'; unit = 'logical'; coord_unit = 'ARCSEC'\n",
       ")"
      ]
     },
     "execution_count": 9,
     "metadata": {},
     "output_type": "execute_result"
    }
   ],
   "source": [
    "hdul[1].columns"
   ]
  },
  {
   "cell_type": "code",
   "execution_count": 11,
   "metadata": {
    "scrolled": false
   },
   "outputs": [
    {
     "ename": "ValueError",
     "evalue": "name already used as a name or title",
     "output_type": "error",
     "traceback": [
      "\u001b[1;31m---------------------------------------------------------------------------\u001b[0m",
      "\u001b[1;31mValueError\u001b[0m                                Traceback (most recent call last)",
      "\u001b[1;32m<ipython-input-11-a41e17ca7989>\u001b[0m in \u001b[0;36m<module>\u001b[1;34m\u001b[0m\n\u001b[1;32m----> 1\u001b[1;33m \u001b[0mhdul\u001b[0m\u001b[1;33m[\u001b[0m\u001b[1;36m1\u001b[0m\u001b[1;33m]\u001b[0m\u001b[1;33m.\u001b[0m\u001b[0mdata\u001b[0m\u001b[1;33m[\u001b[0m\u001b[1;36m0\u001b[0m\u001b[1;33m]\u001b[0m\u001b[1;33m\u001b[0m\u001b[1;33m\u001b[0m\u001b[0m\n\u001b[0m",
      "\u001b[1;32mc:\\users\\byrdie\\appdata\\local\\programs\\python\\python37\\lib\\site-packages\\astropy\\utils\\decorators.py\u001b[0m in \u001b[0;36m__get__\u001b[1;34m(self, obj, owner)\u001b[0m\n\u001b[0;32m    742\u001b[0m                 \u001b[1;32mreturn\u001b[0m \u001b[0mval\u001b[0m\u001b[1;33m\u001b[0m\u001b[1;33m\u001b[0m\u001b[0m\n\u001b[0;32m    743\u001b[0m             \u001b[1;32melse\u001b[0m\u001b[1;33m:\u001b[0m\u001b[1;33m\u001b[0m\u001b[1;33m\u001b[0m\u001b[0m\n\u001b[1;32m--> 744\u001b[1;33m                 \u001b[0mval\u001b[0m \u001b[1;33m=\u001b[0m \u001b[0mself\u001b[0m\u001b[1;33m.\u001b[0m\u001b[0mfget\u001b[0m\u001b[1;33m(\u001b[0m\u001b[0mobj\u001b[0m\u001b[1;33m)\u001b[0m\u001b[1;33m\u001b[0m\u001b[1;33m\u001b[0m\u001b[0m\n\u001b[0m\u001b[0;32m    745\u001b[0m                 \u001b[0mobj\u001b[0m\u001b[1;33m.\u001b[0m\u001b[0m__dict__\u001b[0m\u001b[1;33m[\u001b[0m\u001b[0mself\u001b[0m\u001b[1;33m.\u001b[0m\u001b[0m_key\u001b[0m\u001b[1;33m]\u001b[0m \u001b[1;33m=\u001b[0m \u001b[0mval\u001b[0m\u001b[1;33m\u001b[0m\u001b[1;33m\u001b[0m\u001b[0m\n\u001b[0;32m    746\u001b[0m                 \u001b[1;32mreturn\u001b[0m \u001b[0mval\u001b[0m\u001b[1;33m\u001b[0m\u001b[1;33m\u001b[0m\u001b[0m\n",
      "\u001b[1;32mc:\\users\\byrdie\\appdata\\local\\programs\\python\\python37\\lib\\site-packages\\astropy\\io\\fits\\hdu\\table.py\u001b[0m in \u001b[0;36mdata\u001b[1;34m(self)\u001b[0m\n\u001b[0;32m    397\u001b[0m     \u001b[1;33m@\u001b[0m\u001b[0mlazyproperty\u001b[0m\u001b[1;33m\u001b[0m\u001b[1;33m\u001b[0m\u001b[0m\n\u001b[0;32m    398\u001b[0m     \u001b[1;32mdef\u001b[0m \u001b[0mdata\u001b[0m\u001b[1;33m(\u001b[0m\u001b[0mself\u001b[0m\u001b[1;33m)\u001b[0m\u001b[1;33m:\u001b[0m\u001b[1;33m\u001b[0m\u001b[1;33m\u001b[0m\u001b[0m\n\u001b[1;32m--> 399\u001b[1;33m         \u001b[0mdata\u001b[0m \u001b[1;33m=\u001b[0m \u001b[0mself\u001b[0m\u001b[1;33m.\u001b[0m\u001b[0m_get_tbdata\u001b[0m\u001b[1;33m(\u001b[0m\u001b[1;33m)\u001b[0m\u001b[1;33m\u001b[0m\u001b[1;33m\u001b[0m\u001b[0m\n\u001b[0m\u001b[0;32m    400\u001b[0m         \u001b[0mdata\u001b[0m\u001b[1;33m.\u001b[0m\u001b[0m_coldefs\u001b[0m \u001b[1;33m=\u001b[0m \u001b[0mself\u001b[0m\u001b[1;33m.\u001b[0m\u001b[0mcolumns\u001b[0m\u001b[1;33m\u001b[0m\u001b[1;33m\u001b[0m\u001b[0m\n\u001b[0;32m    401\u001b[0m         \u001b[0mdata\u001b[0m\u001b[1;33m.\u001b[0m\u001b[0m_character_as_bytes\u001b[0m \u001b[1;33m=\u001b[0m \u001b[0mself\u001b[0m\u001b[1;33m.\u001b[0m\u001b[0m_character_as_bytes\u001b[0m\u001b[1;33m\u001b[0m\u001b[1;33m\u001b[0m\u001b[0m\n",
      "\u001b[1;32mc:\\users\\byrdie\\appdata\\local\\programs\\python\\python37\\lib\\site-packages\\astropy\\io\\fits\\hdu\\table.py\u001b[0m in \u001b[0;36m_get_tbdata\u001b[1;34m(self)\u001b[0m\n\u001b[0;32m    169\u001b[0m                                                type=np.rec.recarray)\n\u001b[0;32m    170\u001b[0m         \u001b[1;32melse\u001b[0m\u001b[1;33m:\u001b[0m\u001b[1;33m\u001b[0m\u001b[1;33m\u001b[0m\u001b[0m\n\u001b[1;32m--> 171\u001b[1;33m             raw_data = self._get_raw_data(self._nrows, columns.dtype,\n\u001b[0m\u001b[0;32m    172\u001b[0m                                           self._data_offset)\n\u001b[0;32m    173\u001b[0m             \u001b[1;32mif\u001b[0m \u001b[0mraw_data\u001b[0m \u001b[1;32mis\u001b[0m \u001b[1;32mNone\u001b[0m\u001b[1;33m:\u001b[0m\u001b[1;33m\u001b[0m\u001b[1;33m\u001b[0m\u001b[0m\n",
      "\u001b[1;32mc:\\users\\byrdie\\appdata\\local\\programs\\python\\python37\\lib\\site-packages\\astropy\\utils\\decorators.py\u001b[0m in \u001b[0;36m__get__\u001b[1;34m(self, obj, owner)\u001b[0m\n\u001b[0;32m    742\u001b[0m                 \u001b[1;32mreturn\u001b[0m \u001b[0mval\u001b[0m\u001b[1;33m\u001b[0m\u001b[1;33m\u001b[0m\u001b[0m\n\u001b[0;32m    743\u001b[0m             \u001b[1;32melse\u001b[0m\u001b[1;33m:\u001b[0m\u001b[1;33m\u001b[0m\u001b[1;33m\u001b[0m\u001b[0m\n\u001b[1;32m--> 744\u001b[1;33m                 \u001b[0mval\u001b[0m \u001b[1;33m=\u001b[0m \u001b[0mself\u001b[0m\u001b[1;33m.\u001b[0m\u001b[0mfget\u001b[0m\u001b[1;33m(\u001b[0m\u001b[0mobj\u001b[0m\u001b[1;33m)\u001b[0m\u001b[1;33m\u001b[0m\u001b[1;33m\u001b[0m\u001b[0m\n\u001b[0m\u001b[0;32m    745\u001b[0m                 \u001b[0mobj\u001b[0m\u001b[1;33m.\u001b[0m\u001b[0m__dict__\u001b[0m\u001b[1;33m[\u001b[0m\u001b[0mself\u001b[0m\u001b[1;33m.\u001b[0m\u001b[0m_key\u001b[0m\u001b[1;33m]\u001b[0m \u001b[1;33m=\u001b[0m \u001b[0mval\u001b[0m\u001b[1;33m\u001b[0m\u001b[1;33m\u001b[0m\u001b[0m\n\u001b[0;32m    746\u001b[0m                 \u001b[1;32mreturn\u001b[0m \u001b[0mval\u001b[0m\u001b[1;33m\u001b[0m\u001b[1;33m\u001b[0m\u001b[0m\n",
      "\u001b[1;32mc:\\users\\byrdie\\appdata\\local\\programs\\python\\python37\\lib\\site-packages\\astropy\\io\\fits\\column.py\u001b[0m in \u001b[0;36mdtype\u001b[1;34m(self)\u001b[0m\n\u001b[0;32m   1589\u001b[0m         return np.dtype({'names': self.names,\n\u001b[0;32m   1590\u001b[0m                          \u001b[1;34m'formats'\u001b[0m\u001b[1;33m:\u001b[0m \u001b[0mformats\u001b[0m\u001b[1;33m,\u001b[0m\u001b[1;33m\u001b[0m\u001b[1;33m\u001b[0m\u001b[0m\n\u001b[1;32m-> 1591\u001b[1;33m                          'offsets': offsets})\n\u001b[0m\u001b[0;32m   1592\u001b[0m \u001b[1;33m\u001b[0m\u001b[0m\n\u001b[0;32m   1593\u001b[0m     \u001b[1;33m@\u001b[0m\u001b[0mlazyproperty\u001b[0m\u001b[1;33m\u001b[0m\u001b[1;33m\u001b[0m\u001b[0m\n",
      "\u001b[1;31mValueError\u001b[0m: name already used as a name or title"
     ]
    }
   ],
   "source": [
    "hdul[1].data[0]"
   ]
  },
  {
   "cell_type": "code",
   "execution_count": null,
   "metadata": {},
   "outputs": [],
   "source": [
    "hdul[0].header"
   ]
  },
  {
   "cell_type": "code",
   "execution_count": 2,
   "metadata": {},
   "outputs": [],
   "source": [
    "import numpy as np\n",
    "import scipy.optimize\n",
    "import multiprocessing"
   ]
  },
  {
   "cell_type": "code",
   "execution_count": 3,
   "metadata": {},
   "outputs": [],
   "source": [
    "def func2(x):\n",
    "    return np.sin(x)"
   ]
  },
  {
   "cell_type": "code",
   "execution_count": 4,
   "metadata": {},
   "outputs": [],
   "source": [
    "pool = multiprocessing.Pool(4)"
   ]
  },
  {
   "cell_type": "code",
   "execution_count": null,
   "metadata": {},
   "outputs": [],
   "source": [
    "def func3():\n",
    "    return scipy.optimize.differential_evolution(\n",
    "        func=func2,\n",
    "        bounds=[[0, 6]],\n",
    "        workers=4,\n",
    "        updating='deferred',\n",
    "    )\n",
    "result = func3()"
   ]
  },
  {
   "cell_type": "code",
   "execution_count": 6,
   "metadata": {},
   "outputs": [
    {
     "data": {
      "text/plain": [
       "array([3.14159264])"
      ]
     },
     "execution_count": 6,
     "metadata": {},
     "output_type": "execute_result"
    }
   ],
   "source": [
    "result.x"
   ]
  },
  {
   "cell_type": "code",
   "execution_count": null,
   "metadata": {},
   "outputs": [],
   "source": []
  }
 ],
 "metadata": {
  "kernelspec": {
   "display_name": "Python 3",
   "language": "python",
   "name": "python3"
  },
  "language_info": {
   "codemirror_mode": {
    "name": "ipython",
    "version": 3
   },
   "file_extension": ".py",
   "mimetype": "text/x-python",
   "name": "python",
   "nbconvert_exporter": "python",
   "pygments_lexer": "ipython3",
   "version": "3.7.6"
  }
 },
 "nbformat": 4,
 "nbformat_minor": 1
}
